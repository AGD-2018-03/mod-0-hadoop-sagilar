{
 "cells": [
  {
   "cell_type": "markdown",
   "metadata": {},
   "source": [
    "**Recuerde no agregar o quitar celdas en este notebook, ni modificar su tipo. Si lo hace, el sistema automaticamente lo calificará con cero punto cero (0.0)**"
   ]
  },
  {
   "cell_type": "markdown",
   "metadata": {},
   "source": [
    "Ordene el archivo por letra y valor (3ra columna)."
   ]
  },
  {
   "cell_type": "code",
   "execution_count": 62,
   "metadata": {},
   "outputs": [
    {
     "name": "stdout",
     "output_type": "stream",
     "text": [
      "Writing input.txt\n"
     ]
    }
   ],
   "source": [
    "%%writefile input.txt\n",
    "B   1999-08-28   14\n",
    "E   1999-12-06   12\n",
    "E   1993-07-21   9\n",
    "C   1991-02-12   13\n",
    "E   1995-04-25   2\n",
    "A   1992-08-22   14\n",
    "B   1999-06-11   121\n",
    "E   1993-01-27   9\n",
    "E   1999-09-10   11\n",
    "E   1990-05-03   16\n",
    "E   1994-02-14   10\n",
    "A   1988-04-27   121\n",
    "A   1990-10-06   10\n",
    "E   1985-02-12   16\n",
    "E   1998-09-14   2\n",
    "B   1994-08-30   17\n",
    "A   1997-12-15   13\n",
    "B   1995-08-23   1\n",
    "B   1998-11-22   131\n",
    "B   1997-04-09   14\n",
    "E   1993-12-27   18\n",
    "E   1999-01-14   15\n",
    "A   1992-09-19   8\n",
    "B   1993-03-02   14\n",
    "B   1999-10-21   13\n",
    "A   1990-08-31   12\n",
    "C   1994-01-25   10\n",
    "E   1990-02-09   18\n",
    "A   1990-09-26   8\n",
    "A   1993-05-08   16\n",
    "B   1995-09-06   14\n",
    "E   1991-02-18   141\n",
    "A   1993-01-11   14\n",
    "A   1990-07-22   0\n",
    "C   1994-09-09   15\n",
    "C   1994-07-27   104\n",
    "D   1990-10-10   15\n",
    "A   1990-09-05   11\n",
    "B   1991-10-01   9\n",
    "A   1994-10-25   13"
   ]
  },
  {
   "cell_type": "markdown",
   "metadata": {},
   "source": [
    "## Mapper"
   ]
  },
  {
   "cell_type": "code",
   "execution_count": 102,
   "metadata": {},
   "outputs": [
    {
     "name": "stdout",
     "output_type": "stream",
     "text": [
      "Overwriting mapper.py\n"
     ]
    }
   ],
   "source": [
    "%%writefile mapper.py\n",
    "#! /usr/bin/env python\n",
    "\n",
    "##\n",
    "## Esta es la función que mapea la entrada a parejas (clave, valor)\n",
    "##\n",
    "import sys\n",
    "import re\n",
    "\n",
    "\n",
    "##\n",
    "## Se usa una clase iterable para implementar el mapper.\n",
    "##\n",
    "\n",
    "class Mapper:\n",
    "    \n",
    "    def __init__(self, stream):\n",
    "        ## \n",
    "        ## almacena el flujo de entrada como una\n",
    "        ## variable del objeto\n",
    "        ##\n",
    "        self.stream = stream\n",
    "    \n",
    "    def emit(self, key, value):\n",
    "        ##\n",
    "        ## escribe al flujo estándar de salida\n",
    "        ##\n",
    "        sys.stdout.write(\"{}\\t{}\\n\".format(key, value))\n",
    "            \n",
    "    def status(self, message):\n",
    "        ##\n",
    "        ## imprime un reporte en el flujo de error\n",
    "        ## no se debe usar el stdout, ya que en este \n",
    "        ## unicamente deben ir las parejas (key, value)\n",
    "        ##\n",
    "        sys.stderr.write('reporter:status:{}\\n'.format(message))\n",
    "        \n",
    "    def map(self):\n",
    "\n",
    "        word_counter = 0\n",
    "        \n",
    "        for word in self:\n",
    "            \n",
    "            ##\n",
    "            ## imprime un mensaje indicando la palabra procesada\n",
    "            ##\n",
    "            #self.status('procesando ' + word[1])\n",
    "            \n",
    "            ##\n",
    "            ## cuenta la cantidad de palabras procesadas\n",
    "            ##\n",
    "            ##\n",
    "            ## por cada palabra del flujo de datos\n",
    "            ## emite la pareja (word, 1)\n",
    "            ##\n",
    "            #self.emit(key=word[0], value=(word[1],word[2]))\n",
    "            self.emit(key=(word[0],word[2]), value=word[1])\n",
    "            \n",
    "    def __iter__(self):\n",
    "        ##\n",
    "        ## itera sobre cada linea de código recibida\n",
    "        ## a través del flujo de entrada\n",
    "        ##\n",
    "        for line in self.stream:\n",
    "            ##\n",
    "            ## itera sobre cada palabra de la línea\n",
    "            ## (en los ciclos for, retorna las palabras\n",
    "            ## una a una)\n",
    "            ##\n",
    "            #yield line[0]\n",
    "            #yield line\n",
    "            groups = re.search(\"([A-Z]{1})   ([0-9]{4}-[0-9]{2}-[0-9]{2})   ([0-9]*)$\",line)\n",
    "            #groups = re.search(\"(.{2}\\..{1})$\",line)\n",
    "            letra = groups.group(1)\n",
    "            #letra = line[0]\n",
    "            fecha = groups.group(2)\n",
    "            valor1 = groups.group(3)\n",
    "            #valor2 = groups.group(2)\n",
    "            vector =  [letra,valor1,fecha]\n",
    "            #print(vector)\n",
    "            yield vector\n",
    "            #for word in line.split():\n",
    "                \n",
    "                #fecha = word[1]\n",
    "                #yield fecha\n",
    "                #for content in fecha.split('-'):\n",
    "                    #mes=content[1]\n",
    "                    #yield mes\n",
    "                ##\n",
    "                ## retorna la palabra siguiente en el\n",
    "                ## ciclo for\n",
    "                ##\n",
    "                #yield word\n",
    "    \n",
    "\n",
    "if __name__ == \"__main__\": \n",
    "    ##\n",
    "    ## inicializa el objeto con el flujo de entrada\n",
    "    ##\n",
    "    mapper = Mapper(sys.stdin)\n",
    "    \n",
    "    ##\n",
    "    ## ejecuta el mapper\n",
    "    ##\n",
    "    mapper.map()"
   ]
  },
  {
   "cell_type": "markdown",
   "metadata": {},
   "source": [
    "## Reducer"
   ]
  },
  {
   "cell_type": "code",
   "execution_count": 103,
   "metadata": {
    "scrolled": true
   },
   "outputs": [
    {
     "name": "stdout",
     "output_type": "stream",
     "text": [
      "Overwriting reducer.py\n"
     ]
    }
   ],
   "source": [
    "%%writefile reducer.py\n",
    "#!/usr/bin/env python\n",
    "\n",
    "import sys\n",
    "import itertools\n",
    "from operator import itemgetter\n",
    "\n",
    "class Reducer:\n",
    "    \n",
    "    def __init__(self, stream):\n",
    "        self.stream = stream\n",
    "        \n",
    "    def emit(self, key, value):\n",
    "        sys.stdout.write(\"{}\\t{}\\n\".format(key, value)) \n",
    "\n",
    "    def reduce(self):\n",
    "        ##\n",
    "        ## Esta función reduce los elementos que \n",
    "        ## tienen la misma clave\n",
    "        ##\n",
    "        for key, group in itertools.groupby(sorted(self, key=itemgetter(0,1), reverse=False), lambda x: x):\n",
    "        ##for key, group in itertools.groupby(sorted(self, key=lambda x:x[0],x[1][1], reverse=False), lambda x: x):\n",
    "            \n",
    "            for _, val, f in group:\n",
    "                #valor=int(val)\n",
    "                valor = val\n",
    "                #valor = valor.replace('\\n','')\n",
    "                fecha = f\n",
    "                #fecha = fecha.replace('\\n','')\n",
    "                \n",
    "            #claves.append(key)\n",
    "            #valores.append(valor)\n",
    "            self.emit(key=_, value=str(fecha) + '   ' + str(valor))\n",
    "\n",
    "    def __iter__(self):\n",
    "        \n",
    "        for line in self.stream:\n",
    "            ##\n",
    "            ## Lee el stream de datos y lo parte \n",
    "            ## en (clave, valor)\n",
    "            ##\n",
    "            key, val = line.split(\"\\t\") \n",
    "            #array = [float(val[0]),float(val[1])]\n",
    "            #val=val.replace(\"'\",\"\")\n",
    "            #val=val.replace(\"(\",\"\")\n",
    "            #val=val.replace(\")\",\"\")\n",
    "            #val=val.replace(\" \",\"\")\n",
    "            #val=val.replace(\"\\n\",\"\")\n",
    "            #valor = val.split(',')[0]\n",
    "            #fecha = val.split(',')[1]\n",
    "            #out = int(val)\n",
    "            #array = [float(val[0]),float(val[1])]\n",
    "            key=key.replace(\"'\",\"\")\n",
    "            key=key.replace(\"(\",\"\")\n",
    "            key=key.replace(\")\",\"\")\n",
    "            key=key.replace(\" \",\"\")\n",
    "            key=key.replace(\"\\n\",\"\")\n",
    "            letra = key.split(',')[0]\n",
    "            fecha = key.split(',')[1]\n",
    "            valor = val.replace(\"\\n\",\"\")\n",
    "            ##\n",
    "            ## retorna la tupla (clave, valor)\n",
    "            ## como el siguiente elemento del ciclo for\n",
    "            ##\n",
    "            #yield (key, int(valor), fecha)\n",
    "            yield (letra, int(valor), fecha)\n",
    "\n",
    "\n",
    "if __name__ == '__main__': \n",
    "  \n",
    "    reducer = Reducer(sys.stdin)\n",
    "    reducer.reduce()"
   ]
  },
  {
   "cell_type": "markdown",
   "metadata": {},
   "source": [
    "## Ejecución"
   ]
  },
  {
   "cell_type": "code",
   "execution_count": 104,
   "metadata": {},
   "outputs": [
    {
     "name": "stdout",
     "output_type": "stream",
     "text": [
      "A\t1990-07-22   0\n",
      "A\t1990-09-26   8\n",
      "A\t1992-09-19   8\n",
      "A\t1990-10-06   10\n",
      "A\t1990-09-05   11\n",
      "A\t1990-08-31   12\n",
      "A\t1994-10-25   13\n",
      "A\t1997-12-15   13\n",
      "A\t1992-08-22   14\n",
      "A\t1993-01-11   14\n",
      "A\t1993-05-08   16\n",
      "A\t1988-04-27   121\n",
      "B\t1995-08-23   1\n",
      "B\t1991-10-01   9\n",
      "B\t1999-10-21   13\n",
      "B\t1993-03-02   14\n",
      "B\t1995-09-06   14\n",
      "B\t1997-04-09   14\n",
      "B\t1999-08-28   14\n",
      "B\t1994-08-30   17\n",
      "B\t1999-06-11   121\n",
      "B\t1998-11-22   131\n",
      "C\t1994-01-25   10\n",
      "C\t1991-02-12   13\n",
      "C\t1994-09-09   15\n",
      "C\t1994-07-27   104\n",
      "D\t1990-10-10   15\n",
      "E\t1995-04-25   2\n",
      "E\t1998-09-14   2\n",
      "E\t1993-01-27   9\n",
      "E\t1993-07-21   9\n",
      "E\t1994-02-14   10\n",
      "E\t1999-09-10   11\n",
      "E\t1999-12-06   12\n",
      "E\t1999-01-14   15\n",
      "E\t1985-02-12   16\n",
      "E\t1990-05-03   16\n",
      "E\t1990-02-09   18\n",
      "E\t1993-12-27   18\n",
      "E\t1991-02-18   141\n"
     ]
    }
   ],
   "source": [
    "%%bash\n",
    "rm -rf output\n",
    "STREAM=$HADOOP_HOME/share/hadoop/tools/lib/hadoop-streaming-*.jar\n",
    "chmod +x mapper.py\n",
    "chmod +x reducer.py\n",
    "hadoop jar $STREAM -input input.txt -output output  -mapper mapper.py -reducer reducer.py\n",
    "cat output/part-00000"
   ]
  },
  {
   "cell_type": "code",
   "execution_count": null,
   "metadata": {},
   "outputs": [],
   "source": [
    "!rm -rf mapper.py reducer.py output input.txt"
   ]
  },
  {
   "cell_type": "markdown",
   "metadata": {},
   "source": [
    "---"
   ]
  },
  {
   "cell_type": "markdown",
   "metadata": {},
   "source": [
    "Para realizar la evaluación automática de este libro:\n",
    "\n",
    "* Abra un Terminal.\n",
    "* Asegurece que esat en la misma carpeta que contiene este notebook.\n",
    "* Salve el notebook.\n",
    "* Ejecute el siguiente comando:\n",
    "\n",
    "      ./gradetool 08-Taller.ipynb"
   ]
  },
  {
   "cell_type": "markdown",
   "metadata": {},
   "source": [
    "---"
   ]
  }
 ],
 "metadata": {
  "kernelspec": {
   "display_name": "Python 3",
   "language": "python",
   "name": "python3"
  },
  "language_info": {
   "codemirror_mode": {
    "name": "ipython",
    "version": 3
   },
   "file_extension": ".py",
   "mimetype": "text/x-python",
   "name": "python",
   "nbconvert_exporter": "python",
   "pygments_lexer": "ipython3",
   "version": "3.6.5"
  },
  "toc": {
   "base_numbering": 1,
   "nav_menu": {},
   "number_sections": false,
   "sideBar": true,
   "skip_h1_title": true,
   "title_cell": "Table of Contents",
   "title_sidebar": "Contents",
   "toc_cell": false,
   "toc_position": {},
   "toc_section_display": true,
   "toc_window_display": true
  },
  "toc-autonumbering": false
 },
 "nbformat": 4,
 "nbformat_minor": 2
}
